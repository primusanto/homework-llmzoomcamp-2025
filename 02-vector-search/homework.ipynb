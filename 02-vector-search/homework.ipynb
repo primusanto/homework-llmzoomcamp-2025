{
 "cells": [
  {
   "cell_type": "markdown",
   "id": "ddc65a50",
   "metadata": {},
   "source": [
    "Q1. Embedding the query\n",
    "Embed the query: 'I just discovered the course. Can I join now?'. Use the 'jinaai/jina-embeddings-v2-small-en' model.\n",
    "\n",
    "You should get a numpy array of size 512.\n",
    "\n",
    "What's the minimal value in this array?\n",
    "\n",
    "-0.51\n",
    "-0.11\n",
    "0\n",
    "0.51\n",
    "Cosine similarity\n",
    "The vectors that our embedding model returns are already normalized: their length is 1.0.\n",
    "\n",
    "You can chech that by using the norm function:\n",
    "\n",
    "import numpy as np\n",
    "np.linalg.norm(q)\n",
    "Which means that we can simply compute the dot product between two vectors to learn the cosine similarity between them.\n",
    "\n",
    "For example, if you compute the cosine of the query vector with itself, the result will be 1.0:\n",
    "\n",
    "q.dot(q)m"
   ]
  },
  {
   "cell_type": "code",
   "execution_count": 1,
   "id": "c7cf52f3",
   "metadata": {},
   "outputs": [
    {
     "name": "stderr",
     "output_type": "stream",
     "text": [
      "/Users/robertusprimusanto/Documents/CODE/dataTalksClub/llmzoomcamp-202506/homework-llmzoomcamp-2025/02-vector-search/.venv/lib/python3.13/site-packages/tqdm/auto.py:21: TqdmWarning: IProgress not found. Please update jupyter and ipywidgets. See https://ipywidgets.readthedocs.io/en/stable/user_install.html\n",
      "  from .autonotebook import tqdm as notebook_tqdm\n"
     ]
    }
   ],
   "source": [
    "\n",
    "from fastembed import TextEmbedding\n"
   ]
  },
  {
   "cell_type": "code",
   "execution_count": 2,
   "id": "ce221731",
   "metadata": {},
   "outputs": [],
   "source": [
    "model_handle = \"jinaai/jina-embeddings-v2-small-en\"\n",
    "query = 'I just discovered the course. Can I join now?' \n",
    "embedding_dimensiality = 512"
   ]
  },
  {
   "cell_type": "code",
   "execution_count": 3,
   "id": "4e3a67c0",
   "metadata": {},
   "outputs": [],
   "source": [
    "embedding_model = TextEmbedding(model_name=model_handle)"
   ]
  },
  {
   "cell_type": "code",
   "execution_count": 4,
   "id": "20e290e8",
   "metadata": {},
   "outputs": [
    {
     "data": {
      "text/plain": [
       "'jinaai/jina-embeddings-v2-small-en'"
      ]
     },
     "execution_count": 4,
     "metadata": {},
     "output_type": "execute_result"
    }
   ],
   "source": [
    "#sanity check\n",
    "embedding_model.model_name"
   ]
  },
  {
   "cell_type": "code",
   "execution_count": 10,
   "id": "589c5cc1",
   "metadata": {},
   "outputs": [
    {
     "name": "stdout",
     "output_type": "stream",
     "text": [
      "length of the embedding vector: 512\n",
      "the minimum value in the embedding vector: -0.11726373551188797\n"
     ]
    }
   ],
   "source": [
    "embeddings_list = list(embedding_model.embed(query))\n",
    "q = embeddings_list[0] # Get the first embedding\n",
    "#print the length of the embedding vector\n",
    "print(f'length of the embedding vector: {len(q)}')\n",
    "#print the minimum value in the embedding vector\n",
    "print(f'the minimum value in the embedding vector: {min(q)}')"
   ]
  },
  {
   "cell_type": "code",
   "execution_count": null,
   "id": "40c61ed9",
   "metadata": {},
   "outputs": [
    {
     "name": "stdout",
     "output_type": "stream",
     "text": [
      "the norm of the embedding vector: 1.0\n",
      "the dot product of the embedding vector with itself: 1.0\n"
     ]
    }
   ],
   "source": [
    "import numpy as np\n",
    "#print the norm of the embedding vector\n",
    "print(f'the norm of the embedding vector: {np.linalg.norm(q)}')\n",
    "#print the dot product of the embedding vector with itself\n",
    "print(f'the dot product of the embedding vector with itself: {np.dot(q, q)}')"
   ]
  },
  {
   "cell_type": "markdown",
   "id": "30b5bb53",
   "metadata": {},
   "source": []
  }
 ],
 "metadata": {
  "kernelspec": {
   "display_name": ".venv",
   "language": "python",
   "name": "python3"
  },
  "language_info": {
   "codemirror_mode": {
    "name": "ipython",
    "version": 3
   },
   "file_extension": ".py",
   "mimetype": "text/x-python",
   "name": "python",
   "nbconvert_exporter": "python",
   "pygments_lexer": "ipython3",
   "version": "3.13.4"
  }
 },
 "nbformat": 4,
 "nbformat_minor": 5
}
