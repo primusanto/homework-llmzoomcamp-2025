{
 "cells": [
  {
   "cell_type": "markdown",
   "id": "ddc65a50",
   "metadata": {},
   "source": [
    "Q1. Embedding the query\n",
    "Embed the query: 'I just discovered the course. Can I join now?'. Use the 'jinaai/jina-embeddings-v2-small-en' model.\n",
    "\n",
    "You should get a numpy array of size 512.\n",
    "\n",
    "What's the minimal value in this array?\n",
    "\n",
    "-0.51\n",
    "-0.11\n",
    "0\n",
    "0.51\n",
    "Cosine similarity\n",
    "The vectors that our embedding model returns are already normalized: their length is 1.0.\n",
    "\n",
    "You can chech that by using the norm function:\n",
    "\n",
    "import numpy as np\n",
    "np.linalg.norm(q)\n",
    "Which means that we can simply compute the dot product between two vectors to learn the cosine similarity between them.\n",
    "\n",
    "For example, if you compute the cosine of the query vector with itself, the result will be 1.0:\n",
    "\n",
    "q.dot(q)m"
   ]
  },
  {
   "cell_type": "code",
   "execution_count": null,
   "id": "d04331a3",
   "metadata": {},
   "outputs": [],
   "source": [
    "!pip install fastembed"
   ]
  },
  {
   "cell_type": "code",
   "execution_count": 10,
   "id": "c7cf52f3",
   "metadata": {},
   "outputs": [],
   "source": [
    "\n",
    "from fastembed import TextEmbedding\n",
    "import numpy as np\n"
   ]
  },
  {
   "cell_type": "code",
   "execution_count": 5,
   "id": "ce221731",
   "metadata": {},
   "outputs": [],
   "source": [
    "model_handle = \"jinaai/jina-embeddings-v2-small-en\"\n",
    "query = 'I just discovered the course. Can I join now?' \n",
    "embedding_dimensiality = 512"
   ]
  },
  {
   "cell_type": "code",
   "execution_count": 6,
   "id": "4e3a67c0",
   "metadata": {},
   "outputs": [],
   "source": [
    "embedding_model = TextEmbedding(model_name=model_handle)"
   ]
  },
  {
   "cell_type": "code",
   "execution_count": 7,
   "id": "20e290e8",
   "metadata": {},
   "outputs": [
    {
     "data": {
      "text/plain": [
       "'jinaai/jina-embeddings-v2-small-en'"
      ]
     },
     "execution_count": 7,
     "metadata": {},
     "output_type": "execute_result"
    }
   ],
   "source": [
    "#sanity check\n",
    "embedding_model.model_name"
   ]
  },
  {
   "cell_type": "code",
   "execution_count": 21,
   "id": "589c5cc1",
   "metadata": {},
   "outputs": [
    {
     "name": "stdout",
     "output_type": "stream",
     "text": [
      "length of the query vector: 512\n",
      "the minimum value in the query vector: -0.11726373551188797\n",
      "the norm of the query vector: 1.0\n",
      "the dot product of the query vector with itself: 1.0\n"
     ]
    }
   ],
   "source": [
    "q_list = list(embedding_model.embed(query))\n",
    "q = q_list[0] # Get the first query\n",
    "#print the length of the query vector\n",
    "print(f'length of the query vector: {len(q)}')\n",
    "#print the minimum value in the query vector\n",
    "print(f'the minimum value in the query vector: {min(q)}')\n",
    "\n",
    "#print the norm of the query vector\n",
    "print(f'the norm of the query vector: {np.linalg.norm(q)}')\n",
    "#print the dot product of the query vector with itself\n",
    "print(f'the dot product of the query vector with itself: {q.dot(q)}')"
   ]
  },
  {
   "cell_type": "markdown",
   "id": "105a926d",
   "metadata": {},
   "source": [
    "Q2. Cosine similarity with another vector\n",
    "Now let's embed this document:\n",
    "\n",
    "doc = 'Can I still join the course after the start date?'\n",
    "What's the cosine similarity between the vector for the query and the vector for the document?\n",
    "\n",
    "0.3\n",
    "0.5\n",
    "0.7\n",
    "0.9"
   ]
  },
  {
   "cell_type": "code",
   "execution_count": 13,
   "id": "5d00e081",
   "metadata": {},
   "outputs": [],
   "source": [
    "doc = 'Can I still join the course after the start date?'"
   ]
  },
  {
   "cell_type": "code",
   "execution_count": null,
   "id": "aded9458",
   "metadata": {},
   "outputs": [
    {
     "name": "stdout",
     "output_type": "stream",
     "text": [
      "length of the doc vector: 512\n",
      "the minimum value in the doc vector: -0.12396319741919225\n",
      "the norm of the doc vector: 0.9999999999999999\n",
      "the dot product of the query vector with the doc vector: 0.9008528856818037\n"
     ]
    }
   ],
   "source": [
    "doc_list = list(embedding_model.embed(doc))\n",
    "d = doc_list[0] # Get the first doc\n",
    "#print the length of the doc vector\n",
    "print(f'length of the doc vector: {len(d)}')\n",
    "#print the minimum value in the doc vector\n",
    "print(f'the minimum value in the doc vector: {min(d)}')\n",
    "\n",
    "#print the norm of the doc vector\n",
    "print(f'the norm of the doc vector: {np.linalg.norm(d)}')\n",
    "#print the vector similarity between the query and the doc\n",
    "print(f'the dot product of the query vector with the doc vector: {q.dot(d)}')"
   ]
  },
  {
   "cell_type": "code",
   "execution_count": null,
   "id": "c0d522cd",
   "metadata": {},
   "outputs": [],
   "source": []
  }
 ],
 "metadata": {
  "kernelspec": {
   "display_name": ".venv",
   "language": "python",
   "name": "python3"
  },
  "language_info": {
   "codemirror_mode": {
    "name": "ipython",
    "version": 3
   },
   "file_extension": ".py",
   "mimetype": "text/x-python",
   "name": "python",
   "nbconvert_exporter": "python",
   "pygments_lexer": "ipython3",
   "version": "3.13.4"
  }
 },
 "nbformat": 4,
 "nbformat_minor": 5
}
